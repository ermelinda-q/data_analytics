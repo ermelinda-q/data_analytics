{
 "cells": [
  {
   "cell_type": "markdown",
   "metadata": {},
   "source": [
    "# Jane Eyre - A Mathematical Theory of Communication\n",
    "\n",
    "[A Mathematical Theory of Communication by Claude Shannon](https://people.math.harvard.edu/~ctm/home/text/others/shannon/entropy/entropy.pdf)\n",
    "\n",
    "[The Mathematical Theory of Communication by Claude Shannon and Warren Weaver](https://pure.mpg.de/rest/items/item_2383164/component/file_2383163/content)\n",
    "\n",
    "[Jane Eyre: An Autobiography by Charlotte Brontë](https://www.gutenberg.org/ebooks/1260)"
   ]
  },
  {
   "cell_type": "markdown",
   "metadata": {},
   "source": [
    "***\n",
    "## Imports"
   ]
  },
  {
   "cell_type": "code",
   "execution_count": 15,
   "metadata": {},
   "outputs": [],
   "source": [
    "# The random module from the Python Standard Library.\n",
    "import random"
   ]
  },
  {
   "cell_type": "markdown",
   "metadata": {},
   "source": [
    "## Zero-order Approximation"
   ]
  },
  {
   "cell_type": "code",
   "execution_count": 16,
   "metadata": {},
   "outputs": [],
   "source": [
    "# The allowed symbols.\n",
    "symbols = \"ABCDEFGHIJKLMNOPQRSTUVWXYZ \""
   ]
  },
  {
   "cell_type": "markdown",
   "metadata": {},
   "source": [
    "Select several elements from symbols, with replacement.\n",
    "\n",
    "https://docs.python.org/3/library/random.html#random.choices"
   ]
  },
  {
   "cell_type": "code",
   "execution_count": 17,
   "metadata": {},
   "outputs": [
    {
     "data": {
      "text/plain": [
       "'WUXIDUUTRGMMAPMFXHMEDAENAPPRVSNKNWUYILDB IIXTTSNUYIMWNTQMBDKHNNIADMXV HVPKSNYLIBISM RGZ UFSRIBBUIWIG'"
      ]
     },
     "execution_count": 17,
     "metadata": {},
     "output_type": "execute_result"
    }
   ],
   "source": [
    "# Randomly select k symbols from the string above.\n",
    "L = random.choices(symbols, k=100)\n",
    "\n",
    "# Show.\n",
    "''.join(L)"
   ]
  },
  {
   "cell_type": "markdown",
   "metadata": {},
   "source": [
    "## First-order Approximation"
   ]
  },
  {
   "cell_type": "code",
   "execution_count": 18,
   "metadata": {},
   "outputs": [],
   "source": [
    "# Open the book.\n",
    "with open('data/janeeyre.txt', 'r') as f:\n",
    "  # Read the book into one long string.\n",
    "  text = f.read().upper()"
   ]
  },
  {
   "cell_type": "code",
   "execution_count": 19,
   "metadata": {},
   "outputs": [],
   "source": [
    "# Counts of the number of letters in the book.\n",
    "counts = {s: text.count(s) for s in symbols}"
   ]
  },
  {
   "cell_type": "code",
   "execution_count": 20,
   "metadata": {},
   "outputs": [
    {
     "data": {
      "text/plain": [
       "{'A': 34572,\n",
       " 'B': 6380,\n",
       " 'C': 10497,\n",
       " 'D': 20748,\n",
       " 'E': 55729,\n",
       " 'F': 9157,\n",
       " 'G': 8522,\n",
       " 'H': 25327,\n",
       " 'I': 30331,\n",
       " 'J': 541,\n",
       " 'K': 3379,\n",
       " 'L': 17840,\n",
       " 'M': 11970,\n",
       " 'N': 29905,\n",
       " 'O': 32867,\n",
       " 'P': 6842,\n",
       " 'Q': 541,\n",
       " 'R': 26503,\n",
       " 'S': 28083,\n",
       " 'T': 37020,\n",
       " 'U': 12455,\n",
       " 'V': 3930,\n",
       " 'W': 10049,\n",
       " 'X': 719,\n",
       " 'Y': 9019,\n",
       " 'Z': 188,\n",
       " ' ': 91911}"
      ]
     },
     "execution_count": 20,
     "metadata": {},
     "output_type": "execute_result"
    }
   ],
   "source": [
    "counts"
   ]
  },
  {
   "cell_type": "code",
   "execution_count": 21,
   "metadata": {},
   "outputs": [
    {
     "data": {
      "text/plain": [
       "55729"
      ]
     },
     "execution_count": 21,
     "metadata": {},
     "output_type": "execute_result"
    }
   ],
   "source": [
    "counts['E']"
   ]
  },
  {
   "cell_type": "code",
   "execution_count": 22,
   "metadata": {},
   "outputs": [
    {
     "data": {
      "text/plain": [
       "[(' ', 91911),\n",
       " ('E', 55729),\n",
       " ('T', 37020),\n",
       " ('A', 34572),\n",
       " ('O', 32867),\n",
       " ('I', 30331),\n",
       " ('N', 29905),\n",
       " ('S', 28083),\n",
       " ('R', 26503),\n",
       " ('H', 25327),\n",
       " ('D', 20748),\n",
       " ('L', 17840),\n",
       " ('U', 12455),\n",
       " ('M', 11970),\n",
       " ('C', 10497),\n",
       " ('W', 10049),\n",
       " ('F', 9157),\n",
       " ('Y', 9019),\n",
       " ('G', 8522),\n",
       " ('P', 6842),\n",
       " ('B', 6380),\n",
       " ('V', 3930),\n",
       " ('K', 3379),\n",
       " ('X', 719),\n",
       " ('J', 541),\n",
       " ('Q', 541),\n",
       " ('Z', 188)]"
      ]
     },
     "execution_count": 22,
     "metadata": {},
     "output_type": "execute_result"
    }
   ],
   "source": [
    "# Show the items in counts in sorted order.\n",
    "# Adapted from : https://stackoverflow.com/a/613218\n",
    "sorted(counts.items(), key=lambda item: -item[1])"
   ]
  },
  {
   "cell_type": "code",
   "execution_count": null,
   "metadata": {},
   "outputs": [
    {
     "data": {
      "text/plain": [
       "dict_keys(['A', 'B', 'C', 'D', 'E', 'F', 'G', 'H', 'I', 'J', 'K', 'L', 'M', 'N', 'O', 'P', 'Q', 'R', 'S', 'T', 'U', 'V', 'W', 'X', 'Y', 'Z', ' '])"
      ]
     },
     "execution_count": 10,
     "metadata": {},
     "output_type": "execute_result"
    }
   ],
   "source": [
    "# The dictionary keys.\n",
    "counts.keys()"
   ]
  },
  {
   "cell_type": "code",
   "execution_count": null,
   "metadata": {},
   "outputs": [
    {
     "data": {
      "text/plain": [
       "dict_values([34572, 6380, 10497, 20748, 55729, 9157, 8522, 25327, 30331, 541, 3379, 17840, 11970, 29905, 32867, 6842, 541, 26503, 28083, 37020, 12455, 3930, 10049, 719, 9019, 188, 91911])"
      ]
     },
     "execution_count": 11,
     "metadata": {},
     "output_type": "execute_result"
    }
   ],
   "source": [
    "# the dictionary values.\n",
    "counts.values()"
   ]
  },
  {
   "cell_type": "code",
   "execution_count": null,
   "metadata": {},
   "outputs": [
    {
     "data": {
      "text/plain": [
       "'VNGHHDHED O ES CNJN BNNBEO IO E ILEEOKT NMARNTV TW    N UECORAEMHMR F RLNRH   EEGU NAPDOE  YSTYUED  '"
      ]
     },
     "execution_count": 12,
     "metadata": {},
     "output_type": "execute_result"
    }
   ],
   "source": [
    "# Randomly select k symbols from the string above.\n",
    "L = random.choices(list(counts.keys()), weights=list(counts.values()), k=100)\n",
    "\n",
    "# Show.\n",
    "''.join(L)\n"
   ]
  },
  {
   "cell_type": "markdown",
   "metadata": {},
   "source": [
    "## Second-order Approximation"
   ]
  },
  {
   "cell_type": "code",
   "execution_count": 27,
   "metadata": {},
   "outputs": [
    {
     "data": {
      "text/plain": [
       "(['AA', 'AB', 'AC', 'AD', 'AE', 'AF', 'AG', 'AH', 'AI', 'AJ'],\n",
       " [' R', ' S', ' T', ' U', ' V', ' W', ' X', ' Y', ' Z', '  '])"
      ]
     },
     "execution_count": 27,
     "metadata": {},
     "output_type": "execute_result"
    }
   ],
   "source": [
    "# Pairs of symbols.\n",
    "symsq = [a + b for a in symbols for b in symbols]\n",
    "\n",
    "# Show first and last 10.\n",
    "symsq[:10], symsq[-10:]"
   ]
  },
  {
   "cell_type": "code",
   "execution_count": 28,
   "metadata": {},
   "outputs": [],
   "source": [
    "# Counts of the number of double letters in the book.\n",
    "countsq = {s: text.count(s) for s in symsq}"
   ]
  },
  {
   "cell_type": "code",
   "execution_count": 29,
   "metadata": {},
   "outputs": [
    {
     "data": {
      "text/plain": [
       "2"
      ]
     },
     "execution_count": 29,
     "metadata": {},
     "output_type": "execute_result"
    }
   ],
   "source": [
    "# Example.\n",
    "countsq['AA']"
   ]
  },
  {
   "cell_type": "code",
   "execution_count": 30,
   "metadata": {},
   "outputs": [
    {
     "data": {
      "text/plain": [
       "2849"
      ]
     },
     "execution_count": 30,
     "metadata": {},
     "output_type": "execute_result"
    }
   ],
   "source": [
    "# Another example.\n",
    "countsq['EA']"
   ]
  },
  {
   "cell_type": "code",
   "execution_count": 31,
   "metadata": {},
   "outputs": [],
   "source": [
    "# Our eventual output.\n",
    "output = 'T'"
   ]
  },
  {
   "cell_type": "code",
   "execution_count": 32,
   "metadata": {},
   "outputs": [
    {
     "data": {
      "text/plain": [
       "{'A': 1253,\n",
       " 'B': 1,\n",
       " 'C': 174,\n",
       " 'D': 3,\n",
       " 'E': 3583,\n",
       " 'F': 30,\n",
       " 'G': 1,\n",
       " 'H': 10514,\n",
       " 'I': 2383,\n",
       " 'J': 0,\n",
       " 'K': 0,\n",
       " 'L': 647,\n",
       " 'M': 58,\n",
       " 'N': 37,\n",
       " 'O': 3999,\n",
       " 'P': 0,\n",
       " 'Q': 0,\n",
       " 'R': 1021,\n",
       " 'S': 685,\n",
       " 'T': 787,\n",
       " 'U': 715,\n",
       " 'V': 0,\n",
       " 'W': 231,\n",
       " 'X': 0,\n",
       " 'Y': 463,\n",
       " 'Z': 3,\n",
       " ' ': 7988}"
      ]
     },
     "execution_count": 32,
     "metadata": {},
     "output_type": "execute_result"
    }
   ],
   "source": [
    "# The counts for keys beginning with the last letter.\n",
    "condcounts = {s: countsq[output[-1] + s] for s in symbols}\n",
    "\n",
    "# Show.\n",
    "condcounts"
   ]
  },
  {
   "cell_type": "code",
   "execution_count": 33,
   "metadata": {},
   "outputs": [
    {
     "data": {
      "text/plain": [
       "['C']"
      ]
     },
     "execution_count": 33,
     "metadata": {},
     "output_type": "execute_result"
    }
   ],
   "source": [
    "# Randomly select the next symbol using the conditional weights.\n",
    "random.choices(list(condcounts.keys()), weights=list(condcounts.values()), k=1)"
   ]
  },
  {
   "cell_type": "code",
   "execution_count": 34,
   "metadata": {},
   "outputs": [
    {
     "data": {
      "text/plain": [
       "'THO D MEAD D MRORPAINOUG INLANT IRTRO THIZLOPE THOTOUCRBINANDVE ANDEANOURCOWE IND YOWOS AD AN ICEMST'"
      ]
     },
     "execution_count": 34,
     "metadata": {},
     "output_type": "execute_result"
    }
   ],
   "source": [
    "# Our eventual output.\n",
    "output = 'T'\n",
    "\n",
    "for i in range(1, 100):\n",
    "  # The counts for keys beginning with the last letter.\n",
    "  condcounts = {s: countsq[output[-1] + s] for s in symbols}\n",
    "  # The next letter.\n",
    "  next = random.choices(list(condcounts.keys()), weights=list(condcounts.values()), k=1)[0]\n",
    "  # Add to the output.\n",
    "  output += next\n",
    "\n",
    "# Show.\n",
    "output"
   ]
  },
  {
   "cell_type": "markdown",
   "metadata": {},
   "source": [
    "***\n",
    "## End"
   ]
  }
 ],
 "metadata": {
  "kernelspec": {
   "display_name": "base",
   "language": "python",
   "name": "python3"
  },
  "language_info": {
   "codemirror_mode": {
    "name": "ipython",
    "version": 3
   },
   "file_extension": ".py",
   "mimetype": "text/x-python",
   "name": "python",
   "nbconvert_exporter": "python",
   "pygments_lexer": "ipython3",
   "version": "3.11.5"
  }
 },
 "nbformat": 4,
 "nbformat_minor": 2
}
