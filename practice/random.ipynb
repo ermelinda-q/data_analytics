{
 "cells": [
  {
   "cell_type": "markdown",
   "metadata": {},
   "source": [
    "# Random Numbers\n",
    "\n",
    "***"
   ]
  },
  {
   "cell_type": "markdown",
   "metadata": {},
   "source": [
    "## Prequisites\n",
    "\n",
    "***\n",
    "https://numpy.org/doc/stable/reference/random/index.html\n"
   ]
  },
  {
   "cell_type": "code",
   "execution_count": 182,
   "metadata": {},
   "outputs": [],
   "source": [
    "# Numerical arrays and random numbers.\n",
    "import numpy as np\n",
    "\n",
    "# Plot\n",
    "import matplotlib.pyplot as plt "
   ]
  },
  {
   "cell_type": "markdown",
   "metadata": {},
   "source": [
    "## Generate Random Integers\n",
    "\n",
    "***"
   ]
  },
  {
   "cell_type": "code",
   "execution_count": 183,
   "metadata": {},
   "outputs": [],
   "source": [
    "rng = np.random.default_rng()\n"
   ]
  },
  {
   "cell_type": "code",
   "execution_count": 184,
   "metadata": {},
   "outputs": [
    {
     "data": {
      "text/plain": [
       "0.17401411834094138"
      ]
     },
     "execution_count": 184,
     "metadata": {},
     "output_type": "execute_result"
    }
   ],
   "source": [
    "\n",
    "# Generate one random float uniformly distributed over the range [0, 1)\n",
    "rng.random()  "
   ]
  },
  {
   "cell_type": "code",
   "execution_count": 185,
   "metadata": {},
   "outputs": [
    {
     "data": {
      "text/plain": [
       "array([ 0.88002663,  0.98420774, -0.38396455,  0.48297392,  0.47317441,\n",
       "       -1.86580989, -0.85688821, -0.45637535,  1.95799531,  0.63934765])"
      ]
     },
     "execution_count": 185,
     "metadata": {},
     "output_type": "execute_result"
    }
   ],
   "source": [
    "# Generate an array of 10 numbers according to a unit Gaussian distribution.\n",
    "rng.standard_normal(10)  \n"
   ]
  },
  {
   "cell_type": "code",
   "execution_count": 186,
   "metadata": {},
   "outputs": [
    {
     "data": {
      "text/plain": [
       "array([2, 1, 5, 3, 6, 5, 5, 9, 0, 8, 4, 2, 1, 7, 7, 0, 8, 3, 3, 6, 2, 0,\n",
       "       9, 1, 2, 6, 1, 9, 6, 4, 6, 2, 0, 8, 8, 6, 0, 5, 6, 6, 1, 0, 2, 6,\n",
       "       2, 8, 0, 4, 5, 2, 6, 1, 4, 5, 8, 2, 6, 9, 9, 1, 0, 8, 9, 9, 5, 5,\n",
       "       1, 6, 9, 9, 7, 0, 9, 1, 6, 7, 7, 3, 4, 1, 6, 5, 9, 4, 7, 6, 6, 7,\n",
       "       6, 4, 6, 4, 2, 7, 7, 2, 9, 5, 9, 6], dtype=int64)"
      ]
     },
     "execution_count": 186,
     "metadata": {},
     "output_type": "execute_result"
    }
   ],
   "source": [
    "# Generate an array of 5 integers uniformly over the range [0, 10).\n",
    "rng.integers(low=0, high=10, size=100)  "
   ]
  },
  {
   "cell_type": "code",
   "execution_count": 187,
   "metadata": {},
   "outputs": [
    {
     "data": {
      "text/plain": [
       "array([ 0,  6,  1,  7,  7,  9,  4,  4,  1,  7,  6,  8,  8,  9,  3,  6,  3,\n",
       "       10,  9,  6,  9, 10,  9,  7,  8, 10, 10,  5,  2,  4,  0,  1,  8, 10,\n",
       "        1,  2,  0,  5,  8, 10,  7,  5, 10,  0,  0,  5,  3,  5,  1,  6,  1,\n",
       "        3,  6,  0,  7,  7,  7,  5,  5,  3,  6,  0,  8,  2,  8,  2,  8, 10,\n",
       "        4,  5,  7,  0,  6,  1,  8,  6,  2,  6, 10,  9,  2,  0,  1,  8,  4,\n",
       "        8,  2,  6,  3,  1,  4,  9,  5,  0,  5,  1, 10,  7,  8,  0],\n",
       "      dtype=int64)"
      ]
     },
     "execution_count": 187,
     "metadata": {},
     "output_type": "execute_result"
    }
   ],
   "source": [
    "# Generate 10,000 integers over the range [0,10)\n",
    "x = rng.integers(low=0, high=10, size=100, endpoint=True)\n",
    "\n",
    "# Show x\n",
    "x"
   ]
  },
  {
   "cell_type": "code",
   "execution_count": 188,
   "metadata": {},
   "outputs": [
    {
     "data": {
      "text/plain": [
       "(array([ 0,  1,  2,  3,  4,  5,  6,  7,  8,  9, 10], dtype=int64),\n",
       " array([11, 10,  7,  6,  6, 10, 11, 10, 12,  7, 10], dtype=int64))"
      ]
     },
     "execution_count": 188,
     "metadata": {},
     "output_type": "execute_result"
    }
   ],
   "source": [
    "# Get the counts\n",
    "values, counts = np.unique(x, return_counts=True)\n",
    "\n",
    "# Show\n",
    "values, counts"
   ]
  },
  {
   "cell_type": "code",
   "execution_count": 189,
   "metadata": {},
   "outputs": [
    {
     "data": {
      "text/plain": [
       "<BarContainer object of 11 artists>"
      ]
     },
     "execution_count": 189,
     "metadata": {},
     "output_type": "execute_result"
    },
    {
     "data": {
      "image/png": "[encoded data removed]",
      "text/plain": [
       "<Figure size 640x480 with 1 Axes>"
      ]
     },
     "metadata": {},
     "output_type": "display_data"
    }
   ],
   "source": [
    "# Plot the bar chart.\n",
    "plt.bar(values, counts, edgecolor='black')"
   ]
  },
  {
   "cell_type": "markdown",
   "metadata": {},
   "source": [
    "## Uniform Distribution\n",
    "\n",
    "***"
   ]
  },
  {
   "cell_type": "code",
   "execution_count": 190,
   "metadata": {},
   "outputs": [
    {
     "data": {
      "text/plain": [
       "array([4.45293055, 9.29688804, 3.29815634, 8.83540735, 9.43374391,\n",
       "       9.13802995, 3.93270894, 0.27311928, 1.8177581 , 6.56709536,\n",
       "       9.95758919, 0.29564879, 7.26188337, 5.79546391, 3.85651279,\n",
       "       2.39685019, 8.83947046, 7.22753671, 6.63116406, 2.82893655,\n",
       "       3.29643838, 5.09361122, 0.75186516, 4.07277273, 5.48311339,\n",
       "       3.80699881, 9.61778487, 5.18391526, 9.00523147, 9.90374047,\n",
       "       2.92301436, 5.47953064, 6.46848263, 4.36281784, 9.18289402,\n",
       "       3.31176915, 0.76592389, 6.2759141 , 4.35181688, 5.5171523 ,\n",
       "       4.74687713, 0.6588284 , 7.75635277, 4.7037436 , 2.70468024,\n",
       "       9.75147581, 9.3236592 , 5.87317087, 5.82851859, 1.19837457,\n",
       "       8.14811758, 1.80704447, 2.33971606, 9.43601809, 4.30174554,\n",
       "       6.05562477, 8.90214406, 2.27645945, 8.17091792, 3.08387138,\n",
       "       4.02271166, 3.28677759, 9.1626572 , 7.71525992, 7.60432715,\n",
       "       1.04305204, 4.56634465, 1.53506988, 7.64784196, 5.50822314,\n",
       "       9.1265634 , 4.49613743, 0.09982659, 4.53018162, 5.38806088,\n",
       "       0.02776989, 8.20091842, 6.08511701, 0.37969404, 5.21615062,\n",
       "       2.88127713, 0.92584537, 1.83557969, 6.37158675, 2.01334253,\n",
       "       7.81809211, 5.65121115, 0.8132563 , 7.3510992 , 1.05333408,\n",
       "       3.9997405 , 5.62325547, 7.89830573, 1.05803246, 5.0164446 ,\n",
       "       9.50227372, 5.34743402, 2.66898771, 2.33640646, 2.60807937])"
      ]
     },
     "execution_count": 190,
     "metadata": {},
     "output_type": "execute_result"
    }
   ],
   "source": [
    "# Generate 10,000 floats uniformly distributed ove the race [0,10)\n",
    "x = rng.uniform(low=0, high=10.0, size=100)\n",
    "\n",
    "# Show\n",
    "x"
   ]
  },
  {
   "cell_type": "code",
   "execution_count": 191,
   "metadata": {},
   "outputs": [
    {
     "data": {
      "text/plain": [
       "(array([0.02776989, 0.09982659, 0.27311928, 0.29564879, 0.37969404,\n",
       "        0.6588284 , 0.75186516, 0.76592389, 0.8132563 , 0.92584537,\n",
       "        1.04305204, 1.05333408, 1.05803246, 1.19837457, 1.53506988,\n",
       "        1.80704447, 1.8177581 , 1.83557969, 2.01334253, 2.27645945,\n",
       "        2.33640646, 2.33971606, 2.39685019, 2.60807937, 2.66898771,\n",
       "        2.70468024, 2.82893655, 2.88127713, 2.92301436, 3.08387138,\n",
       "        3.28677759, 3.29643838, 3.29815634, 3.31176915, 3.80699881,\n",
       "        3.85651279, 3.93270894, 3.9997405 , 4.02271166, 4.07277273,\n",
       "        4.30174554, 4.35181688, 4.36281784, 4.45293055, 4.49613743,\n",
       "        4.53018162, 4.56634465, 4.7037436 , 4.74687713, 5.0164446 ,\n",
       "        5.09361122, 5.18391526, 5.21615062, 5.34743402, 5.38806088,\n",
       "        5.47953064, 5.48311339, 5.50822314, 5.5171523 , 5.62325547,\n",
       "        5.65121115, 5.79546391, 5.82851859, 5.87317087, 6.05562477,\n",
       "        6.08511701, 6.2759141 , 6.37158675, 6.46848263, 6.56709536,\n",
       "        6.63116406, 7.22753671, 7.26188337, 7.3510992 , 7.60432715,\n",
       "        7.64784196, 7.71525992, 7.75635277, 7.81809211, 7.89830573,\n",
       "        8.14811758, 8.17091792, 8.20091842, 8.83540735, 8.83947046,\n",
       "        8.90214406, 9.00523147, 9.1265634 , 9.13802995, 9.1626572 ,\n",
       "        9.18289402, 9.29688804, 9.3236592 , 9.43374391, 9.43601809,\n",
       "        9.50227372, 9.61778487, 9.75147581, 9.90374047, 9.95758919]),\n",
       " array([1, 1, 1, 1, 1, 1, 1, 1, 1, 1, 1, 1, 1, 1, 1, 1, 1, 1, 1, 1, 1, 1,\n",
       "        1, 1, 1, 1, 1, 1, 1, 1, 1, 1, 1, 1, 1, 1, 1, 1, 1, 1, 1, 1, 1, 1,\n",
       "        1, 1, 1, 1, 1, 1, 1, 1, 1, 1, 1, 1, 1, 1, 1, 1, 1, 1, 1, 1, 1, 1,\n",
       "        1, 1, 1, 1, 1, 1, 1, 1, 1, 1, 1, 1, 1, 1, 1, 1, 1, 1, 1, 1, 1, 1,\n",
       "        1, 1, 1, 1, 1, 1, 1, 1, 1, 1, 1, 1], dtype=int64),\n",
       " 100,\n",
       " 100)"
      ]
     },
     "execution_count": 191,
     "metadata": {},
     "output_type": "execute_result"
    }
   ],
   "source": [
    "# Get the counts\n",
    "values, counts = np.unique(x, return_counts=True)\n",
    "\n",
    "# Show\n",
    "values, counts, values.size, counts.size"
   ]
  },
  {
   "cell_type": "code",
   "execution_count": 192,
   "metadata": {},
   "outputs": [
    {
     "data": {
      "text/plain": [
       "<BarContainer object of 100 artists>"
      ]
     },
     "execution_count": 192,
     "metadata": {},
     "output_type": "execute_result"
    },
    {
     "data": {
      "image/png": "[encoded data removed]",
      "text/plain": [
       "<Figure size 640x480 with 1 Axes>"
      ]
     },
     "metadata": {},
     "output_type": "display_data"
    }
   ],
   "source": [
    "# Plot the bar chart.\n",
    "plt.bar(values, counts, edgecolor='black')"
   ]
  },
  {
   "cell_type": "code",
   "execution_count": 193,
   "metadata": {},
   "outputs": [
    {
     "data": {
      "text/plain": [
       "(array([ 0.,  1.,  2.,  3.,  4.,  5.,  6.,  7.,  8.,  9., 10.]),\n",
       " array([ 5,  9,  9, 11, 11, 12, 12,  5,  9, 12,  5], dtype=int64),\n",
       " 11,\n",
       " 11)"
      ]
     },
     "execution_count": 193,
     "metadata": {},
     "output_type": "execute_result"
    }
   ],
   "source": [
    "# Round values in x.\n",
    "x_rounded = np.round(x, decimals=0)\n",
    "\n",
    "# Get the counts.\n",
    "values, counts = np.unique(x_rounded, return_counts=True)\n",
    "\n",
    "# Show\n",
    "values, counts, values.size, counts.size"
   ]
  },
  {
   "cell_type": "code",
   "execution_count": 194,
   "metadata": {},
   "outputs": [
    {
     "data": {
      "text/plain": [
       "<BarContainer object of 11 artists>"
      ]
     },
     "execution_count": 194,
     "metadata": {},
     "output_type": "execute_result"
    },
    {
     "data": {
      "image/png": "[encoded data removed]",
      "text/plain": [
       "<Figure size 640x480 with 1 Axes>"
      ]
     },
     "metadata": {},
     "output_type": "display_data"
    }
   ],
   "source": [
    "# Plot the bar chart.\n",
    "plt.bar(values, counts, edgecolor='black')"
   ]
  },
  {
   "cell_type": "code",
   "execution_count": 195,
   "metadata": {},
   "outputs": [
    {
     "data": {
      "text/plain": [
       "array([9.22392659, 5.19180729, 5.83932833, ..., 8.92670446, 8.47333108,\n",
       "       5.23361657])"
      ]
     },
     "execution_count": 195,
     "metadata": {},
     "output_type": "execute_result"
    }
   ],
   "source": [
    "# Generate 10,000 floats uniformly distributed ove the race [0,10)\n",
    "x = rng.uniform(low=0, high=10.0, size=10000)\n",
    "\n",
    "# Show\n",
    "x"
   ]
  },
  {
   "cell_type": "code",
   "execution_count": 196,
   "metadata": {},
   "outputs": [
    {
     "data": {
      "text/plain": [
       "(array([1.71398770e-03, 1.87059604e-03, 1.95735531e-03, ...,\n",
       "        9.99694206e+00, 9.99860540e+00, 9.99904358e+00]),\n",
       " array([1, 1, 1, ..., 1, 1, 1], dtype=int64),\n",
       " 10000,\n",
       " 10000)"
      ]
     },
     "execution_count": 196,
     "metadata": {},
     "output_type": "execute_result"
    }
   ],
   "source": [
    "# Get the counts\n",
    "values, counts = np.unique(x, return_counts=True)\n",
    "\n",
    "# Show\n",
    "values, counts, values.size, counts.size"
   ]
  },
  {
   "cell_type": "code",
   "execution_count": 198,
   "metadata": {},
   "outputs": [
    {
     "data": {
      "text/plain": [
       "(array([1040.,  974., 1050.,  990.,  978.,  994., 1018.,  965.,  989.,\n",
       "        1002.]),\n",
       " array([1.71398770e-03, 1.00144695e+00, 2.00117991e+00, 3.00091287e+00,\n",
       "        4.00064582e+00, 5.00037878e+00, 6.00011174e+00, 6.99984470e+00,\n",
       "        7.99957766e+00, 8.99931062e+00, 9.99904358e+00]),\n",
       " <BarContainer object of 10 artists>)"
      ]
     },
     "execution_count": 198,
     "metadata": {},
     "output_type": "execute_result"
    },
    {
     "data": {
      "image/png": "[encoded data removed]",
      "text/plain": [
       "<Figure size 640x480 with 1 Axes>"
      ]
     },
     "metadata": {},
     "output_type": "display_data"
    }
   ],
   "source": [
    "# Plot histogram.\n",
    "plt.hist(x, edgecolor='black')"
   ]
  },
  {
   "cell_type": "markdown",
   "metadata": {},
   "source": [
    "## Standard Normal\n",
    "\n",
    "***"
   ]
  },
  {
   "cell_type": "code",
   "execution_count": 199,
   "metadata": {},
   "outputs": [
    {
     "data": {
      "text/plain": [
       "array([-1.00352214,  0.33521707,  0.68499401, ...,  0.33371652,\n",
       "       -0.71793179, -0.01394719])"
      ]
     },
     "execution_count": 199,
     "metadata": {},
     "output_type": "execute_result"
    }
   ],
   "source": [
    "# Generate an array of 10000 numbers.\n",
    "x = rng.standard_normal(size=10000)\n",
    "\n",
    "# Show\n",
    "x"
   ]
  },
  {
   "cell_type": "code",
   "execution_count": 200,
   "metadata": {},
   "outputs": [
    {
     "data": {
      "text/plain": [
       "(array([  32.,  177.,  631., 1753., 2691., 2546., 1511.,  518.,  127.,\n",
       "          14.]),\n",
       " array([-3.52616624, -2.80808291, -2.08999959, -1.37191627, -0.65383294,\n",
       "         0.06425038,  0.7823337 ,  1.50041703,  2.21850035,  2.93658367,\n",
       "         3.654667  ]),\n",
       " <BarContainer object of 10 artists>)"
      ]
     },
     "execution_count": 200,
     "metadata": {},
     "output_type": "execute_result"
    },
    {
     "data": {
      "image/png": "[encoded data removed]",
      "text/plain": [
       "<Figure size 640x480 with 1 Axes>"
      ]
     },
     "metadata": {},
     "output_type": "display_data"
    }
   ],
   "source": [
    "# Plot histogram.\n",
    "plt.hist(x, edgecolor='black')"
   ]
  },
  {
   "cell_type": "code",
   "execution_count": null,
   "metadata": {},
   "outputs": [],
   "source": []
  },
  {
   "cell_type": "code",
   "execution_count": null,
   "metadata": {},
   "outputs": [],
   "source": []
  },
  {
   "cell_type": "code",
   "execution_count": null,
   "metadata": {},
   "outputs": [],
   "source": []
  },
  {
   "cell_type": "markdown",
   "metadata": {},
   "source": [
    "***\n",
    "#### End\n"
   ]
  }
 ],
 "metadata": {
  "kernelspec": {
   "display_name": "base",
   "language": "python",
   "name": "python3"
  },
  "language_info": {
   "codemirror_mode": {
    "name": "ipython",
    "version": 3
   },
   "file_extension": ".py",
   "mimetype": "text/x-python",
   "name": "python",
   "nbconvert_exporter": "python",
   "pygments_lexer": "ipython3",
   "version": "3.11.5"
  }
 },
 "nbformat": 4,
 "nbformat_minor": 2
}
