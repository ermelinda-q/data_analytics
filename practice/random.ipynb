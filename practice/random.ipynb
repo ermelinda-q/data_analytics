{
 "cells": [
  {
   "cell_type": "markdown",
   "metadata": {},
   "source": [
    "# Random Numbers\n",
    "\n",
    "***"
   ]
  },
  {
   "cell_type": "markdown",
   "metadata": {},
   "source": [
    "## Prequisites\n",
    "\n",
    "***\n",
    "https://numpy.org/doc/stable/reference/random/index.html\n"
   ]
  },
  {
   "cell_type": "code",
   "execution_count": 151,
   "metadata": {},
   "outputs": [],
   "source": [
    "# Numerical arrays and random numbers.\n",
    "import numpy as np\n",
    "\n",
    "# Plot\n",
    "import matplotlib.pyplot as plt "
   ]
  },
  {
   "cell_type": "markdown",
   "metadata": {},
   "source": [
    "## Generate Random Integers\n",
    "\n",
    "***"
   ]
  },
  {
   "cell_type": "code",
   "execution_count": 152,
   "metadata": {},
   "outputs": [],
   "source": [
    "rng = np.random.default_rng()\n"
   ]
  },
  {
   "cell_type": "code",
   "execution_count": 153,
   "metadata": {},
   "outputs": [
    {
     "data": {
      "text/plain": [
       "0.32778071709264844"
      ]
     },
     "execution_count": 153,
     "metadata": {},
     "output_type": "execute_result"
    }
   ],
   "source": [
    "\n",
    "# Generate one random float uniformly distributed over the range [0, 1)\n",
    "rng.random()  "
   ]
  },
  {
   "cell_type": "code",
   "execution_count": 154,
   "metadata": {},
   "outputs": [
    {
     "data": {
      "text/plain": [
       "array([-2.33047242, -1.25701514, -0.16571167,  0.59226559, -0.21285627,\n",
       "       -1.61928954,  0.39355511, -1.61600745, -0.396408  , -0.39730312])"
      ]
     },
     "execution_count": 154,
     "metadata": {},
     "output_type": "execute_result"
    }
   ],
   "source": [
    "# Generate an array of 10 numbers according to a unit Gaussian distribution.\n",
    "rng.standard_normal(10)  \n"
   ]
  },
  {
   "cell_type": "code",
   "execution_count": 155,
   "metadata": {},
   "outputs": [
    {
     "data": {
      "text/plain": [
       "array([6, 8, 1, 6, 5, 7, 2, 4, 8, 6, 0, 8, 7, 9, 2, 3, 1, 0, 1, 1, 7, 4,\n",
       "       0, 2, 4, 1, 7, 8, 2, 4, 6, 4, 1, 0, 6, 2, 9, 5, 9, 7, 4, 2, 7, 9,\n",
       "       9, 0, 1, 7, 0, 5, 1, 9, 1, 1, 1, 1, 8, 6, 6, 1, 0, 7, 3, 4, 2, 2,\n",
       "       3, 6, 6, 1, 8, 2, 5, 5, 5, 5, 2, 2, 3, 2, 0, 1, 0, 1, 5, 7, 7, 2,\n",
       "       4, 6, 3, 1, 0, 5, 6, 9, 8, 1, 7, 1], dtype=int64)"
      ]
     },
     "execution_count": 155,
     "metadata": {},
     "output_type": "execute_result"
    }
   ],
   "source": [
    "# Generate an array of 5 integers uniformly over the range [0, 10).\n",
    "rng.integers(low=0, high=10, size=100)  "
   ]
  },
  {
   "cell_type": "code",
   "execution_count": 156,
   "metadata": {},
   "outputs": [
    {
     "data": {
      "text/plain": [
       "array([ 3,  7,  9,  8,  5,  3,  2,  9, 10,  8,  8,  4,  7,  0,  4,  9,  5,\n",
       "        8,  3,  6,  0,  6,  4,  9,  5,  8,  2,  7,  4,  4,  5,  5,  8,  7,\n",
       "        4,  1,  4,  3,  4,  7,  8,  2,  0,  0,  8, 10,  7,  4,  0,  1,  6,\n",
       "        3,  0,  5, 10,  7,  6,  9,  3,  8,  9, 10,  4,  1,  1,  2,  1,  2,\n",
       "        0,  1,  3,  0,  8,  8,  9,  0,  4,  5,  3,  1,  4,  0,  8,  4,  6,\n",
       "        2,  8,  9,  7,  8,  1,  7,  6,  6, 10,  1,  2,  7,  8,  2],\n",
       "      dtype=int64)"
      ]
     },
     "execution_count": 156,
     "metadata": {},
     "output_type": "execute_result"
    }
   ],
   "source": [
    "# Generate 10,000 integers over the range [0,10)\n",
    "x = rng.integers(low=0, high=10, size=100, endpoint=True)\n",
    "\n",
    "# Show x\n",
    "x"
   ]
  },
  {
   "cell_type": "code",
   "execution_count": 157,
   "metadata": {},
   "outputs": [
    {
     "data": {
      "text/plain": [
       "(array([ 0,  1,  2,  3,  4,  5,  6,  7,  8,  9, 10], dtype=int64),\n",
       " array([10,  9,  8,  8, 13,  7,  7, 10, 15,  8,  5], dtype=int64))"
      ]
     },
     "execution_count": 157,
     "metadata": {},
     "output_type": "execute_result"
    }
   ],
   "source": [
    "# Get the counts\n",
    "values, counts = np.unique(x, return_counts=True)\n",
    "\n",
    "# Show\n",
    "values, counts"
   ]
  },
  {
   "cell_type": "code",
   "execution_count": 158,
   "metadata": {},
   "outputs": [
    {
     "data": {
      "text/plain": [
       "<BarContainer object of 11 artists>"
      ]
     },
     "execution_count": 158,
     "metadata": {},
     "output_type": "execute_result"
    },
    {
     "data": {
      "image/png": "[encoded data removed]",
      "text/plain": [
       "<Figure size 640x480 with 1 Axes>"
      ]
     },
     "metadata": {},
     "output_type": "display_data"
    }
   ],
   "source": [
    "# Plot the bar chart.\n",
    "plt.bar(values, counts, edgecolor='black')"
   ]
  },
  {
   "cell_type": "markdown",
   "metadata": {},
   "source": [
    "## Uniform Distribution\n",
    "\n",
    "***"
   ]
  },
  {
   "cell_type": "code",
   "execution_count": 159,
   "metadata": {},
   "outputs": [
    {
     "data": {
      "text/plain": [
       "array([1.9267594 , 3.64572703, 1.57229711, 0.81408961, 5.97010811,\n",
       "       0.06807886, 2.05964827, 0.15427157, 3.50656768, 2.52723805,\n",
       "       9.75940768, 3.91711888, 6.31991927, 9.59043207, 7.21468259,\n",
       "       1.9117916 , 5.90918303, 8.1263738 , 8.03002254, 5.58914708,\n",
       "       5.29921411, 1.17190487, 1.50180523, 6.27993233, 8.3234089 ,\n",
       "       3.01605313, 7.33309909, 4.77258744, 7.42173851, 2.5645841 ,\n",
       "       7.60312842, 3.48312018, 5.35231104, 3.49033521, 9.57030784,\n",
       "       4.66736756, 3.10460278, 5.21061942, 3.80937004, 1.44425291,\n",
       "       5.07242811, 2.13445832, 8.16589343, 3.73855116, 7.21396769,\n",
       "       0.66089137, 9.50563299, 0.59802311, 9.25281649, 5.0353188 ,\n",
       "       1.85584624, 7.7374737 , 9.5527101 , 2.04184969, 2.4367626 ,\n",
       "       3.22696551, 8.44854537, 7.04693385, 9.64570365, 9.44907205,\n",
       "       1.04190192, 7.6524318 , 3.79903947, 2.65897198, 3.80048291,\n",
       "       3.8652971 , 2.83494913, 1.3897651 , 1.61660189, 4.55185914,\n",
       "       5.18452112, 2.75719083, 1.19703797, 6.50400282, 0.81597017,\n",
       "       0.79969618, 7.53410466, 3.83228642, 1.1311474 , 5.69375363,\n",
       "       0.47185011, 0.04654032, 8.22953526, 5.40705739, 5.51099942,\n",
       "       3.06409299, 6.861678  , 0.17482527, 7.38158569, 1.04974498,\n",
       "       3.25227897, 2.4584398 , 9.25787665, 0.15709669, 8.99235455,\n",
       "       4.44554551, 7.12702029, 0.96858424, 4.44735766, 1.88637298])"
      ]
     },
     "execution_count": 159,
     "metadata": {},
     "output_type": "execute_result"
    }
   ],
   "source": [
    "# Generate 10,000 floats uniformly distributed ove the race [0,10)\n",
    "x = rng.uniform(low=0, high=10.0, size=100)\n",
    "\n",
    "# Show\n",
    "x"
   ]
  },
  {
   "cell_type": "code",
   "execution_count": 160,
   "metadata": {},
   "outputs": [
    {
     "data": {
      "text/plain": [
       "(array([0.04654032, 0.06807886, 0.15427157, 0.15709669, 0.17482527,\n",
       "        0.47185011, 0.59802311, 0.66089137, 0.79969618, 0.81408961,\n",
       "        0.81597017, 0.96858424, 1.04190192, 1.04974498, 1.1311474 ,\n",
       "        1.17190487, 1.19703797, 1.3897651 , 1.44425291, 1.50180523,\n",
       "        1.57229711, 1.61660189, 1.85584624, 1.88637298, 1.9117916 ,\n",
       "        1.9267594 , 2.04184969, 2.05964827, 2.13445832, 2.4367626 ,\n",
       "        2.4584398 , 2.52723805, 2.5645841 , 2.65897198, 2.75719083,\n",
       "        2.83494913, 3.01605313, 3.06409299, 3.10460278, 3.22696551,\n",
       "        3.25227897, 3.48312018, 3.49033521, 3.50656768, 3.64572703,\n",
       "        3.73855116, 3.79903947, 3.80048291, 3.80937004, 3.83228642,\n",
       "        3.8652971 , 3.91711888, 4.44554551, 4.44735766, 4.55185914,\n",
       "        4.66736756, 4.77258744, 5.0353188 , 5.07242811, 5.18452112,\n",
       "        5.21061942, 5.29921411, 5.35231104, 5.40705739, 5.51099942,\n",
       "        5.58914708, 5.69375363, 5.90918303, 5.97010811, 6.27993233,\n",
       "        6.31991927, 6.50400282, 6.861678  , 7.04693385, 7.12702029,\n",
       "        7.21396769, 7.21468259, 7.33309909, 7.38158569, 7.42173851,\n",
       "        7.53410466, 7.60312842, 7.6524318 , 7.7374737 , 8.03002254,\n",
       "        8.1263738 , 8.16589343, 8.22953526, 8.3234089 , 8.44854537,\n",
       "        8.99235455, 9.25281649, 9.25787665, 9.44907205, 9.50563299,\n",
       "        9.5527101 , 9.57030784, 9.59043207, 9.64570365, 9.75940768]),\n",
       " array([1, 1, 1, 1, 1, 1, 1, 1, 1, 1, 1, 1, 1, 1, 1, 1, 1, 1, 1, 1, 1, 1,\n",
       "        1, 1, 1, 1, 1, 1, 1, 1, 1, 1, 1, 1, 1, 1, 1, 1, 1, 1, 1, 1, 1, 1,\n",
       "        1, 1, 1, 1, 1, 1, 1, 1, 1, 1, 1, 1, 1, 1, 1, 1, 1, 1, 1, 1, 1, 1,\n",
       "        1, 1, 1, 1, 1, 1, 1, 1, 1, 1, 1, 1, 1, 1, 1, 1, 1, 1, 1, 1, 1, 1,\n",
       "        1, 1, 1, 1, 1, 1, 1, 1, 1, 1, 1, 1], dtype=int64),\n",
       " 100,\n",
       " 100)"
      ]
     },
     "execution_count": 160,
     "metadata": {},
     "output_type": "execute_result"
    }
   ],
   "source": [
    "# Get the counts\n",
    "values, counts = np.unique(x, return_counts=True)\n",
    "\n",
    "# Show\n",
    "values, counts, values.size, counts.size"
   ]
  },
  {
   "cell_type": "code",
   "execution_count": 161,
   "metadata": {},
   "outputs": [
    {
     "data": {
      "text/plain": [
       "<BarContainer object of 100 artists>"
      ]
     },
     "execution_count": 161,
     "metadata": {},
     "output_type": "execute_result"
    },
    {
     "data": {
      "image/png": "[encoded data removed]",
      "text/plain": [
       "<Figure size 640x480 with 1 Axes>"
      ]
     },
     "metadata": {},
     "output_type": "display_data"
    }
   ],
   "source": [
    "# Plot the bar chart.\n",
    "plt.bar(values, counts, edgecolor='black')"
   ]
  },
  {
   "cell_type": "code",
   "execution_count": 162,
   "metadata": {},
   "outputs": [
    {
     "data": {
      "text/plain": [
       "(array([ 0.,  1.,  2.,  3.,  4.,  5.,  6.,  7.,  8.,  9., 10.]),\n",
       " array([ 6, 13, 12, 12, 11, 10,  7,  9, 10,  4,  6], dtype=int64),\n",
       " 11,\n",
       " 11)"
      ]
     },
     "execution_count": 162,
     "metadata": {},
     "output_type": "execute_result"
    }
   ],
   "source": [
    "# Round values in x.\n",
    "x_rounded = np.round(x, decimals=0)\n",
    "\n",
    "# Get the counts.\n",
    "values, counts = np.unique(x_rounded, return_counts=True)\n",
    "\n",
    "# Show\n",
    "values, counts, values.size, counts.size"
   ]
  },
  {
   "cell_type": "code",
   "execution_count": 163,
   "metadata": {},
   "outputs": [
    {
     "data": {
      "text/plain": [
       "<BarContainer object of 11 artists>"
      ]
     },
     "execution_count": 163,
     "metadata": {},
     "output_type": "execute_result"
    },
    {
     "data": {
      "image/png": "[encoded data removed]",
      "text/plain": [
       "<Figure size 640x480 with 1 Axes>"
      ]
     },
     "metadata": {},
     "output_type": "display_data"
    }
   ],
   "source": [
    "# Plot the bar chart.\n",
    "plt.bar(values, counts, edgecolor='black')"
   ]
  },
  {
   "cell_type": "code",
   "execution_count": null,
   "metadata": {},
   "outputs": [],
   "source": []
  },
  {
   "cell_type": "code",
   "execution_count": null,
   "metadata": {},
   "outputs": [],
   "source": []
  },
  {
   "cell_type": "code",
   "execution_count": null,
   "metadata": {},
   "outputs": [],
   "source": []
  },
  {
   "cell_type": "markdown",
   "metadata": {},
   "source": [
    "***\n",
    "#### End\n"
   ]
  }
 ],
 "metadata": {
  "kernelspec": {
   "display_name": "base",
   "language": "python",
   "name": "python3"
  },
  "language_info": {
   "codemirror_mode": {
    "name": "ipython",
    "version": 3
   },
   "file_extension": ".py",
   "mimetype": "text/x-python",
   "name": "python",
   "nbconvert_exporter": "python",
   "pygments_lexer": "ipython3",
   "version": "3.11.5"
  }
 },
 "nbformat": 4,
 "nbformat_minor": 2
}
